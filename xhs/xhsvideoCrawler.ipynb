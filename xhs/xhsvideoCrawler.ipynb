{
 "cells": [
  {
   "cell_type": "code",
   "execution_count": 6,
   "metadata": {},
   "outputs": [
    {
     "name": "stdout",
     "output_type": "stream",
     "text": [
      "Judy_zhuuuu\n",
      "程序运行时间:4.105054616928101秒\n"
     ]
    }
   ],
   "source": [
    "profilePage = \"https://www.xiaohongshu.com/user/profile/5cc5b0680000000016025b50\"\n",
    "#\n",
    "from selenium import webdriver\n",
    "from selenium.webdriver.common.by import By\n",
    "import time\n",
    "import pandas as pd\n",
    "import threading\n",
    "from threading import Semaphore\n",
    "#initialize driver options\n",
    "option = webdriver.ChromeOptions()\n",
    "# Not load pics to reduce loading time\n",
    "option.add_experimental_option('prefs', {'profile.managed_default_content_settings.images': 2})\n",
    "# option.add_argument(\"user-agent=Mozilla/5.0 (Windows NT 10.0; Win64; x64) AppleWebKit/537.36 (KHTML, like Gecko) Chrome/58.0.3029.110 Safari/537.3\")\n",
    "\n",
    "driver = webdriver.Chrome(options = option)\n",
    "driver.implicitly_wait(10)\n",
    "\n",
    "T1 = time.time()\n",
    "\n",
    "driver.get(profilePage)#userPostedFeeds > section:nth-child(2) > div > a.cover.ld.mask\n",
    "contents = driver.find_element(By.ID, 'userPostedFeeds').find_elements(By.CLASS_NAME, 'note-item')\n",
    "username = driver.find_element(By.CSS_SELECTOR,'#userPageContainer > div.user > div > div > div.info > div.basic-info > div.user-basic > div.user-nickname > div').text\n",
    "print(username)\n",
    "mylist = []\n",
    "for content in contents:\n",
    "    mylist.append(content.find_element(By.CSS_SELECTOR, \"div > a\").get_attribute(\"href\"))\n",
    "T2 = time.time()\n",
    "print('程序运行时间:%s秒' % ((T2 - T1)))\n"
   ]
  },
  {
   "cell_type": "code",
   "execution_count": 2,
   "metadata": {},
   "outputs": [
    {
     "name": "stdout",
     "output_type": "stream",
     "text": [
      "https://www.xiaohongshu.com/explore/66091cc5000000001a00eb6b\n",
      "https://www.xiaohongshu.com/explore/6607b0b0000000001a00f2f3\n",
      "https://www.xiaohongshu.com/explore/66010afd000000001203f0d7\n",
      "https://www.xiaohongshu.com/explore/65ffc36f000000000d00c071\n",
      "https://www.xiaohongshu.com/explore/65ff8863000000001203c2cb\n",
      "https://www.xiaohongshu.com/explore/65f68e27000000001203c64b\n",
      "https://www.xiaohongshu.com/explore/65f51dce000000001203e234\n",
      "https://www.xiaohongshu.com/explore/65eff2a2000000000d00e151\n",
      "https://www.xiaohongshu.com/explore/65eda45b000000000d00d8b5\n",
      "https://www.xiaohongshu.com/explore/65ebaea90000000004001d5e\n",
      "https://www.xiaohongshu.com/explore/65e40590000000000102a985\n",
      "https://www.xiaohongshu.com/explore/65db1097000000000102873d\n",
      "https://www.xiaohongshu.com/explore/65da9711000000000102bdfd\n",
      "https://www.xiaohongshu.com/explore/65ceb271000000002d000db8\n"
     ]
    }
   ],
   "source": [
    "for my in mylist:\n",
    "    print(my)"
   ]
  },
  {
   "cell_type": "code",
   "execution_count": 10,
   "metadata": {},
   "outputs": [],
   "source": [
    "current_href = mylist[0] #article\n",
    "newdriver = webdriver.Chrome()\n",
    "newdriver.implicitly_wait(10)\n",
    "\n",
    "newdriver.get(current_href)\n",
    "div = newdriver.find_element(By.CSS_SELECTOR, \"#noteContainer > div.media-container > div > div > div.swiper.swiper-initialized.swiper-horizontal.swiper-pointer-events.note-slider.narrower.swiper-backface-hidden > div > div.swiper-slide.swiper-slide-active\")\n",
    "url = div.get_dom_attribute(\"style\")\n",
    "#noteContainer > div.media-container > div > div > div.swiper.swiper-initialized.swiper-horizontal.swiper-pointer-events.note-slider.narrower.swiper-backface-hidden > div > div.swiper-slide.swiper-slide-active\n",
    "newdriver.close()"
   ]
  },
  {
   "cell_type": "code",
   "execution_count": 15,
   "metadata": {},
   "outputs": [],
   "source": [
    "\n",
    "\n",
    "current_href = mylist[1]  ##video\n",
    "newdriver = webdriver.Chrome()\n",
    "newdriver.implicitly_wait(10)\n",
    "\n",
    "newdriver.get(current_href)\n",
    "src = newdriver.find_element(By.CSS_SELECTOR,\"#noteContainer > div.video-player-media.media-container > div > div > video\").get_attribute(\"src\")\n",
    "newdriver.close()"
   ]
  },
  {
   "cell_type": "code",
   "execution_count": 13,
   "metadata": {},
   "outputs": [
    {
     "name": "stdout",
     "output_type": "stream",
     "text": [
      "https://sns-video-hw.xhscdn.net/stream/110/258/01e607b0af117927010370038e8e0a724b_258.mp4\n"
     ]
    }
   ],
   "source": [
    "print(src)"
   ]
  },
  {
   "cell_type": "code",
   "execution_count": 9,
   "metadata": {},
   "outputs": [],
   "source": [
    "import requests\n",
    "import os\n",
    "def download_video_series(video_links): \n",
    "    if not os.path.exists(username):\n",
    "        os.mkdir(username)\n",
    "    for link in video_links: \n",
    "\n",
    "        '''iterate through all links in video_links \n",
    "        and download them one by one'''\n",
    "\n",
    "        # obtain filename by splitting url and getting  \n",
    "        # last string \n",
    "        file_name = username+'/'+link.split('/')[-1]    \n",
    "\n",
    "        print (\"Downloading file:%s\"%(file_name))\n",
    "\n",
    "        # create response object \n",
    "        r = requests.get(link, stream = True) \n",
    "        # download started \n",
    "        with open(file_name, 'wb') as f: \n",
    "            for chunk in r.iter_content(chunk_size = 1024*1024): \n",
    "                if chunk: \n",
    "                    f.write(chunk) \n",
    "\n",
    "        print (\"%s downloaded!\\n\"%(file_name) )\n",
    "\n",
    "    print (\"All videos downloaded!\")\n",
    "    return"
   ]
  },
  {
   "cell_type": "code",
   "execution_count": 5,
   "metadata": {},
   "outputs": [],
   "source": [
    "count = 1\n",
    "\n",
    "video_links = []\n",
    "for current_href in mylist:\n",
    "    newdriver = webdriver.Chrome()\n",
    "    newdriver.implicitly_wait(10)\n",
    "\n",
    "    newdriver.get(current_href)\n",
    "    type = newdriver.find_element(By.CSS_SELECTOR,\"head > meta:nth-child(50)\").get_attribute(\"content\")\n",
    "    \n",
    "    \n",
    "    if type == 'video':\n",
    "        src = newdriver.find_element(By.CSS_SELECTOR,\"#noteContainer > div.video-player-media.media-container > div > div > video\").get_attribute(\"src\")\n",
    "        # print(\"Getting video\", count, \"with src:\\n\", src)\n",
    "        video_links.append(src)\n",
    "        \n",
    "\n",
    "\n",
    "    count += 1\n",
    "    newdriver.close()"
   ]
  },
  {
   "cell_type": "code",
   "execution_count": 10,
   "metadata": {},
   "outputs": [
    {
     "name": "stdout",
     "output_type": "stream",
     "text": [
      "Downloading file:Judy_zhuuuu/01e607b0af117927010370038e8e0a724b_258.mp4\n",
      "Judy_zhuuuu/01e607b0af117927010370038e8e0a724b_258.mp4 downloaded!\n",
      "\n",
      "Downloading file:Judy_zhuuuu/01e5ffc30e135f5f010371038e6f13a679_258.mp4\n",
      "Judy_zhuuuu/01e5ffc30e135f5f010371038e6f13a679_258.mp4 downloaded!\n",
      "\n",
      "Downloading file:Judy_zhuuuu/01e5ff8863116b3d010376038e6e2ced7f_258.mp4\n",
      "Judy_zhuuuu/01e5ff8863116b3d010376038e6e2ced7f_258.mp4 downloaded!\n",
      "\n",
      "Downloading file:Judy_zhuuuu/01e5f68e261367f5010370038e4b1bcadb_259.mp4\n",
      "Judy_zhuuuu/01e5f68e261367f5010370038e4b1bcadb_259.mp4 downloaded!\n",
      "\n",
      "Downloading file:Judy_zhuuuu/01e5f51dce3802f4010370038e457d294f_258.mp4\n",
      "Judy_zhuuuu/01e5f51dce3802f4010370038e457d294f_258.mp4 downloaded!\n",
      "\n",
      "Downloading file:Judy_zhuuuu/01e5eff1f1381f6d010371038e314c039a_258.mp4\n",
      "Judy_zhuuuu/01e5eff1f1381f6d010371038e314c039a_258.mp4 downloaded!\n",
      "\n",
      "Downloading file:Judy_zhuuuu/01e5eda435380b4b010373038e284b7340_258.mp4\n",
      "Judy_zhuuuu/01e5eda435380b4b010373038e284b7340_258.mp4 downloaded!\n",
      "\n",
      "Downloading file:Judy_zhuuuu/01e5ebad31380c92010371038e20a2beac_258.mp4\n",
      "Judy_zhuuuu/01e5ebad31380c92010371038e20a2beac_258.mp4 downloaded!\n",
      "\n",
      "Downloading file:Judy_zhuuuu/01e5e4058f2b3296010370038e02b66e14_258.mp4\n",
      "Judy_zhuuuu/01e5e4058f2b3296010370038e02b66e14_258.mp4 downloaded!\n",
      "\n",
      "Downloading file:Judy_zhuuuu/01e5db10972b3612010370038ddfbaff4c_259.mp4\n",
      "Judy_zhuuuu/01e5db10972b3612010370038ddfbaff4c_259.mp4 downloaded!\n",
      "\n",
      "Downloading file:Judy_zhuuuu/01e5da9711383519010376038ddddef686_258.mp4\n",
      "Judy_zhuuuu/01e5da9711383519010376038ddddef686_258.mp4 downloaded!\n",
      "\n",
      "Downloading file:Judy_zhuuuu/01e5ceb1c22b0d0f010376038daf6c860a_258.mp4\n",
      "Judy_zhuuuu/01e5ceb1c22b0d0f010376038daf6c860a_258.mp4 downloaded!\n",
      "\n",
      "All videos downloaded!\n"
     ]
    }
   ],
   "source": [
    "download_video_series(video_links)"
   ]
  }
 ],
 "metadata": {
  "kernelspec": {
   "display_name": "Python 3",
   "language": "python",
   "name": "python3"
  },
  "language_info": {
   "codemirror_mode": {
    "name": "ipython",
    "version": 3
   },
   "file_extension": ".py",
   "mimetype": "text/x-python",
   "name": "python",
   "nbconvert_exporter": "python",
   "pygments_lexer": "ipython3",
   "version": "3.11.5"
  }
 },
 "nbformat": 4,
 "nbformat_minor": 2
}
